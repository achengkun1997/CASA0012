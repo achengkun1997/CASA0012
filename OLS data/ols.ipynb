{
 "cells": [
  {
   "cell_type": "code",
   "execution_count": 1,
   "metadata": {},
   "outputs": [],
   "source": [
    "import numpy as np \n",
    "import pandas as pd \n",
    "import matplotlib.pyplot as plt \n",
    "import seaborn as sns \n",
    "import warnings \n",
    "warnings.filterwarnings('ignore') "
   ]
  },
  {
   "cell_type": "code",
   "execution_count": 2,
   "metadata": {},
   "outputs": [],
   "source": [
    "df = pd.read_csv('ols data.csv')"
   ]
  },
  {
   "cell_type": "code",
   "execution_count": 3,
   "metadata": {},
   "outputs": [
    {
     "data": {
      "text/html": [
       "<div>\n",
       "<style scoped>\n",
       "    .dataframe tbody tr th:only-of-type {\n",
       "        vertical-align: middle;\n",
       "    }\n",
       "\n",
       "    .dataframe tbody tr th {\n",
       "        vertical-align: top;\n",
       "    }\n",
       "\n",
       "    .dataframe thead th {\n",
       "        text-align: right;\n",
       "    }\n",
       "</style>\n",
       "<table border=\"1\" class=\"dataframe\">\n",
       "  <thead>\n",
       "    <tr style=\"text-align: right;\">\n",
       "      <th></th>\n",
       "      <th>AttendanceTime</th>\n",
       "      <th>population density (Per Hectares)</th>\n",
       "      <th>building density (Per Hectares)</th>\n",
       "      <th>traffic (million per mile)</th>\n",
       "      <th>London fire station number</th>\n",
       "      <th>road density</th>\n",
       "    </tr>\n",
       "  </thead>\n",
       "  <tbody>\n",
       "    <tr>\n",
       "      <th>0</th>\n",
       "      <td>332.79</td>\n",
       "      <td>56.64</td>\n",
       "      <td>20.1</td>\n",
       "      <td>422</td>\n",
       "      <td>2</td>\n",
       "      <td>340.4</td>\n",
       "    </tr>\n",
       "    <tr>\n",
       "      <th>1</th>\n",
       "      <td>324.95</td>\n",
       "      <td>46.00</td>\n",
       "      <td>17.6</td>\n",
       "      <td>1033</td>\n",
       "      <td>4</td>\n",
       "      <td>764.3</td>\n",
       "    </tr>\n",
       "    <tr>\n",
       "      <th>2</th>\n",
       "      <td>335.25</td>\n",
       "      <td>38.78</td>\n",
       "      <td>15.3</td>\n",
       "      <td>661</td>\n",
       "      <td>3</td>\n",
       "      <td>550.5</td>\n",
       "    </tr>\n",
       "    <tr>\n",
       "      <th>3</th>\n",
       "      <td>328.16</td>\n",
       "      <td>75.81</td>\n",
       "      <td>27.9</td>\n",
       "      <td>585</td>\n",
       "      <td>3</td>\n",
       "      <td>489.3</td>\n",
       "    </tr>\n",
       "    <tr>\n",
       "      <th>4</th>\n",
       "      <td>347.32</td>\n",
       "      <td>22.16</td>\n",
       "      <td>9.3</td>\n",
       "      <td>785</td>\n",
       "      <td>4</td>\n",
       "      <td>904.2</td>\n",
       "    </tr>\n",
       "  </tbody>\n",
       "</table>\n",
       "</div>"
      ],
      "text/plain": [
       "   AttendanceTime  population density (Per Hectares)  \\\n",
       "0          332.79                              56.64   \n",
       "1          324.95                              46.00   \n",
       "2          335.25                              38.78   \n",
       "3          328.16                              75.81   \n",
       "4          347.32                              22.16   \n",
       "\n",
       "   building density (Per Hectares)  traffic (million per mile)  \\\n",
       "0                             20.1                         422   \n",
       "1                             17.6                        1033   \n",
       "2                             15.3                         661   \n",
       "3                             27.9                         585   \n",
       "4                              9.3                         785   \n",
       "\n",
       "   London fire station number  road density  \n",
       "0                           2         340.4  \n",
       "1                           4         764.3  \n",
       "2                           3         550.5  \n",
       "3                           3         489.3  \n",
       "4                           4         904.2  "
      ]
     },
     "execution_count": 3,
     "metadata": {},
     "output_type": "execute_result"
    }
   ],
   "source": [
    "df.head()"
   ]
  },
  {
   "cell_type": "code",
   "execution_count": 4,
   "metadata": {},
   "outputs": [
    {
     "data": {
      "text/html": [
       "<div>\n",
       "<style scoped>\n",
       "    .dataframe tbody tr th:only-of-type {\n",
       "        vertical-align: middle;\n",
       "    }\n",
       "\n",
       "    .dataframe tbody tr th {\n",
       "        vertical-align: top;\n",
       "    }\n",
       "\n",
       "    .dataframe thead th {\n",
       "        text-align: right;\n",
       "    }\n",
       "</style>\n",
       "<table border=\"1\" class=\"dataframe\">\n",
       "  <thead>\n",
       "    <tr style=\"text-align: right;\">\n",
       "      <th></th>\n",
       "      <th>AttendanceTime</th>\n",
       "      <th>population density (Per Hectares)</th>\n",
       "      <th>building density (Per Hectares)</th>\n",
       "      <th>traffic (million per mile)</th>\n",
       "      <th>London fire station number</th>\n",
       "      <th>road density</th>\n",
       "    </tr>\n",
       "  </thead>\n",
       "  <tbody>\n",
       "    <tr>\n",
       "      <th>count</th>\n",
       "      <td>33.00000</td>\n",
       "      <td>33.000000</td>\n",
       "      <td>33.000000</td>\n",
       "      <td>33.000000</td>\n",
       "      <td>33.000000</td>\n",
       "      <td>33.000000</td>\n",
       "    </tr>\n",
       "    <tr>\n",
       "      <th>mean</th>\n",
       "      <td>304.76000</td>\n",
       "      <td>75.007273</td>\n",
       "      <td>30.978788</td>\n",
       "      <td>561.000000</td>\n",
       "      <td>3.121212</td>\n",
       "      <td>448.672727</td>\n",
       "    </tr>\n",
       "    <tr>\n",
       "      <th>std</th>\n",
       "      <td>27.32213</td>\n",
       "      <td>40.523638</td>\n",
       "      <td>18.096301</td>\n",
       "      <td>270.468459</td>\n",
       "      <td>1.053493</td>\n",
       "      <td>185.066402</td>\n",
       "    </tr>\n",
       "    <tr>\n",
       "      <th>min</th>\n",
       "      <td>253.33000</td>\n",
       "      <td>22.160000</td>\n",
       "      <td>9.000000</td>\n",
       "      <td>82.000000</td>\n",
       "      <td>1.000000</td>\n",
       "      <td>55.400000</td>\n",
       "    </tr>\n",
       "    <tr>\n",
       "      <th>25%</th>\n",
       "      <td>282.17000</td>\n",
       "      <td>46.000000</td>\n",
       "      <td>18.200000</td>\n",
       "      <td>420.000000</td>\n",
       "      <td>2.000000</td>\n",
       "      <td>340.400000</td>\n",
       "    </tr>\n",
       "    <tr>\n",
       "      <th>50%</th>\n",
       "      <td>306.61000</td>\n",
       "      <td>57.300000</td>\n",
       "      <td>22.700000</td>\n",
       "      <td>503.000000</td>\n",
       "      <td>3.000000</td>\n",
       "      <td>429.500000</td>\n",
       "    </tr>\n",
       "    <tr>\n",
       "      <th>75%</th>\n",
       "      <td>323.63000</td>\n",
       "      <td>106.980000</td>\n",
       "      <td>45.500000</td>\n",
       "      <td>732.000000</td>\n",
       "      <td>4.000000</td>\n",
       "      <td>534.000000</td>\n",
       "    </tr>\n",
       "    <tr>\n",
       "      <th>max</th>\n",
       "      <td>362.34000</td>\n",
       "      <td>167.000000</td>\n",
       "      <td>70.800000</td>\n",
       "      <td>1317.000000</td>\n",
       "      <td>5.000000</td>\n",
       "      <td>904.200000</td>\n",
       "    </tr>\n",
       "  </tbody>\n",
       "</table>\n",
       "</div>"
      ],
      "text/plain": [
       "       AttendanceTime  population density (Per Hectares)  \\\n",
       "count        33.00000                          33.000000   \n",
       "mean        304.76000                          75.007273   \n",
       "std          27.32213                          40.523638   \n",
       "min         253.33000                          22.160000   \n",
       "25%         282.17000                          46.000000   \n",
       "50%         306.61000                          57.300000   \n",
       "75%         323.63000                         106.980000   \n",
       "max         362.34000                         167.000000   \n",
       "\n",
       "       building density (Per Hectares)  traffic (million per mile)  \\\n",
       "count                        33.000000                   33.000000   \n",
       "mean                         30.978788                  561.000000   \n",
       "std                          18.096301                  270.468459   \n",
       "min                           9.000000                   82.000000   \n",
       "25%                          18.200000                  420.000000   \n",
       "50%                          22.700000                  503.000000   \n",
       "75%                          45.500000                  732.000000   \n",
       "max                          70.800000                 1317.000000   \n",
       "\n",
       "       London fire station number  road density  \n",
       "count                   33.000000     33.000000  \n",
       "mean                     3.121212    448.672727  \n",
       "std                      1.053493    185.066402  \n",
       "min                      1.000000     55.400000  \n",
       "25%                      2.000000    340.400000  \n",
       "50%                      3.000000    429.500000  \n",
       "75%                      4.000000    534.000000  \n",
       "max                      5.000000    904.200000  "
      ]
     },
     "execution_count": 4,
     "metadata": {},
     "output_type": "execute_result"
    }
   ],
   "source": [
    "df.describe()"
   ]
  },
  {
   "cell_type": "code",
   "execution_count": 5,
   "metadata": {},
   "outputs": [
    {
     "name": "stdout",
     "output_type": "stream",
     "text": [
      "<class 'pandas.core.frame.DataFrame'>\n",
      "RangeIndex: 33 entries, 0 to 32\n",
      "Data columns (total 6 columns):\n",
      " #   Column                             Non-Null Count  Dtype  \n",
      "---  ------                             --------------  -----  \n",
      " 0   AttendanceTime                     33 non-null     float64\n",
      " 1   population density (Per Hectares)  33 non-null     float64\n",
      " 2   building density (Per Hectares)    33 non-null     float64\n",
      " 3   traffic (million per mile)         33 non-null     int64  \n",
      " 4   London fire station number         33 non-null     int64  \n",
      " 5   road density                       33 non-null     float64\n",
      "dtypes: float64(4), int64(2)\n",
      "memory usage: 1.7 KB\n"
     ]
    }
   ],
   "source": [
    "df.info()"
   ]
  },
  {
   "cell_type": "code",
   "execution_count": 6,
   "metadata": {},
   "outputs": [
    {
     "data": {
      "text/plain": [
       "Text(0.5, 1.0, 'Visualization of outliers')"
      ]
     },
     "execution_count": 6,
     "metadata": {},
     "output_type": "execute_result"
    },
    {
     "data": {
      "image/png": "[encoded data removed]",
      "text/plain": [
       "<Figure size 1080x720 with 1 Axes>"
      ]
     },
     "metadata": {
      "needs_background": "light"
     },
     "output_type": "display_data"
    }
   ],
   "source": [
    "fig, ax = plt.subplots(figsize=(15,10))\n",
    "sns.boxplot(data=df, width= 0.5,ax=ax,  fliersize=3)\n",
    "plt.title(\"Visualization of outliers\")"
   ]
  },
  {
   "cell_type": "code",
   "execution_count": 7,
   "metadata": {},
   "outputs": [
    {
     "data": {
      "image/png": "[encoded data removed]",
      "text/plain": [
       "<Figure size 720x576 with 2 Axes>"
      ]
     },
     "metadata": {
      "needs_background": "light"
     },
     "output_type": "display_data"
    }
   ],
   "source": [
    "corr = df.corr()\n",
    "\n",
    "plt.figure(figsize= (10,8))\n",
    "mask = np.triu(np.ones_like(corr, dtype=np.bool))\n",
    "sns.heatmap(df.corr(), cmap= 'coolwarm', mask= mask, linewidths= 1, annot= True)\n",
    "plt.title('Correlation between Features', fontsize= 15)\n",
    "plt.show()"
   ]
  },
  {
   "cell_type": "code",
   "execution_count": 10,
   "metadata": {},
   "outputs": [],
   "source": [
    "from statsmodels.stats.outliers_influence import variance_inflation_factor \n",
    "from statsmodels.tools.tools import add_constant\n",
    "\n",
    "from sklearn.linear_model import LinearRegression\n",
    "import statsmodels.api as sm"
   ]
  },
  {
   "cell_type": "code",
   "execution_count": 11,
   "metadata": {},
   "outputs": [],
   "source": [
    "x=sm.add_constant(df.drop('AttendanceTime',axis=1))"
   ]
  },
  {
   "cell_type": "code",
   "execution_count": 12,
   "metadata": {},
   "outputs": [],
   "source": [
    "vif=pd.DataFrame()\n",
    "vif['features']=x.columns"
   ]
  },
  {
   "cell_type": "code",
   "execution_count": 13,
   "metadata": {},
   "outputs": [],
   "source": [
    "vif['VIF Factor']=[variance_inflation_factor(x.values,i) for i in range (x.shape[1])]"
   ]
  },
  {
   "cell_type": "code",
   "execution_count": 14,
   "metadata": {},
   "outputs": [
    {
     "data": {
      "text/html": [
       "<div>\n",
       "<style scoped>\n",
       "    .dataframe tbody tr th:only-of-type {\n",
       "        vertical-align: middle;\n",
       "    }\n",
       "\n",
       "    .dataframe tbody tr th {\n",
       "        vertical-align: top;\n",
       "    }\n",
       "\n",
       "    .dataframe thead th {\n",
       "        text-align: right;\n",
       "    }\n",
       "</style>\n",
       "<table border=\"1\" class=\"dataframe\">\n",
       "  <thead>\n",
       "    <tr style=\"text-align: right;\">\n",
       "      <th></th>\n",
       "      <th>features</th>\n",
       "      <th>VIF Factor</th>\n",
       "    </tr>\n",
       "  </thead>\n",
       "  <tbody>\n",
       "    <tr>\n",
       "      <th>0</th>\n",
       "      <td>const</td>\n",
       "      <td>27.188582</td>\n",
       "    </tr>\n",
       "    <tr>\n",
       "      <th>1</th>\n",
       "      <td>population density (Per Hectares)</td>\n",
       "      <td>16.016672</td>\n",
       "    </tr>\n",
       "    <tr>\n",
       "      <th>2</th>\n",
       "      <td>building density (Per Hectares)</td>\n",
       "      <td>16.625620</td>\n",
       "    </tr>\n",
       "    <tr>\n",
       "      <th>3</th>\n",
       "      <td>traffic (million per mile)</td>\n",
       "      <td>4.370987</td>\n",
       "    </tr>\n",
       "    <tr>\n",
       "      <th>4</th>\n",
       "      <td>London fire station number</td>\n",
       "      <td>1.960868</td>\n",
       "    </tr>\n",
       "    <tr>\n",
       "      <th>5</th>\n",
       "      <td>road density</td>\n",
       "      <td>5.340235</td>\n",
       "    </tr>\n",
       "  </tbody>\n",
       "</table>\n",
       "</div>"
      ],
      "text/plain": [
       "                            features  VIF Factor\n",
       "0                              const   27.188582\n",
       "1  population density (Per Hectares)   16.016672\n",
       "2    building density (Per Hectares)   16.625620\n",
       "3         traffic (million per mile)    4.370987\n",
       "4         London fire station number    1.960868\n",
       "5                       road density    5.340235"
      ]
     },
     "execution_count": 14,
     "metadata": {},
     "output_type": "execute_result"
    }
   ],
   "source": [
    "vif"
   ]
  },
  {
   "cell_type": "code",
   "execution_count": 15,
   "metadata": {},
   "outputs": [],
   "source": [
    "x=x.drop('population density (Per Hectares)',axis=1)"
   ]
  },
  {
   "cell_type": "code",
   "execution_count": 16,
   "metadata": {},
   "outputs": [
    {
     "data": {
      "text/html": [
       "<div>\n",
       "<style scoped>\n",
       "    .dataframe tbody tr th:only-of-type {\n",
       "        vertical-align: middle;\n",
       "    }\n",
       "\n",
       "    .dataframe tbody tr th {\n",
       "        vertical-align: top;\n",
       "    }\n",
       "\n",
       "    .dataframe thead th {\n",
       "        text-align: right;\n",
       "    }\n",
       "</style>\n",
       "<table border=\"1\" class=\"dataframe\">\n",
       "  <thead>\n",
       "    <tr style=\"text-align: right;\">\n",
       "      <th></th>\n",
       "      <th>features</th>\n",
       "      <th>VIF Factor</th>\n",
       "    </tr>\n",
       "  </thead>\n",
       "  <tbody>\n",
       "    <tr>\n",
       "      <th>0</th>\n",
       "      <td>const</td>\n",
       "      <td>27.004976</td>\n",
       "    </tr>\n",
       "    <tr>\n",
       "      <th>1</th>\n",
       "      <td>building density (Per Hectares)</td>\n",
       "      <td>2.300284</td>\n",
       "    </tr>\n",
       "    <tr>\n",
       "      <th>2</th>\n",
       "      <td>traffic (million per mile)</td>\n",
       "      <td>4.370516</td>\n",
       "    </tr>\n",
       "    <tr>\n",
       "      <th>3</th>\n",
       "      <td>London fire station number</td>\n",
       "      <td>1.869146</td>\n",
       "    </tr>\n",
       "    <tr>\n",
       "      <th>4</th>\n",
       "      <td>road density</td>\n",
       "      <td>5.307912</td>\n",
       "    </tr>\n",
       "  </tbody>\n",
       "</table>\n",
       "</div>"
      ],
      "text/plain": [
       "                          features  VIF Factor\n",
       "0                            const   27.004976\n",
       "1  building density (Per Hectares)    2.300284\n",
       "2       traffic (million per mile)    4.370516\n",
       "3       London fire station number    1.869146\n",
       "4                     road density    5.307912"
      ]
     },
     "execution_count": 16,
     "metadata": {},
     "output_type": "execute_result"
    }
   ],
   "source": [
    "vif=pd.DataFrame()\n",
    "vif['features']=x.columns\n",
    "vif['VIF Factor']=[variance_inflation_factor(x.values,i) for i in range (x.shape[1])]\n",
    "vif"
   ]
  },
  {
   "cell_type": "code",
   "execution_count": 17,
   "metadata": {},
   "outputs": [],
   "source": [
    "from sklearn.datasets import load_boston\n",
    "import pandas as pd\n",
    "import numpy as np\n",
    "import statsmodels.api as sm"
   ]
  },
  {
   "cell_type": "code",
   "execution_count": 36,
   "metadata": {},
   "outputs": [],
   "source": [
    "def stepwise_selection(X, y, \n",
    "                           initial_list=[], \n",
    "                           threshold_in=0.01, \n",
    "                           threshold_out = 0.05, \n",
    "                           verbose=True):\n",
    "    included = list(initial_list)\n",
    "    while True:\n",
    "            changed=False\n",
    "            # forward step\n",
    "            excluded = list(set(X.columns)-set(included))\n",
    "            new_pval = pd.Series(index=excluded)\n",
    "            for new_column in excluded:\n",
    "                model = sm.OLS(y, sm.add_constant(pd.DataFrame(X[included+[new_column]]))).fit()\n",
    "                new_pval[new_column] = model.pvalues[new_column]\n",
    "            best_pval = new_pval.min()\n",
    "            if best_pval < threshold_in:\n",
    "                best_feature = new_pval.idxmin()\n",
    "                included.append(best_feature)\n",
    "                changed=True\n",
    "                if verbose:\n",
    "                    print('Add  {:30} with p-value {:.6}'.format(best_feature, best_pval))\n",
    "\n",
    "# backward step\n",
    "            model = sm.OLS(y, sm.add_constant(pd.DataFrame(X[included]))).fit()\n",
    "            # use all coefs except intercept\n",
    "            pvalues = model.pvalues.iloc[1:]\n",
    "            worst_pval = pvalues.max() # null if pvalues is empty\n",
    "            if worst_pval > threshold_out:\n",
    "                changed=True\n",
    "                worst_feature = pvalues.idxmax()\n",
    "                included.remove(worst_feature)\n",
    "                if verbose:\n",
    "                    print('Drop {:30} with p-value {:.6}'.format(worst_feature, worst_pval))\n",
    "            if not changed:\n",
    "                break\n",
    "    return included"
   ]
  },
  {
   "cell_type": "code",
   "execution_count": 58,
   "metadata": {},
   "outputs": [],
   "source": [
    "predictors_data = df.drop(columns=['AttendanceTime'], axis=1)\n",
    "response_data = df[['AttendanceTime']]"
   ]
  },
  {
   "cell_type": "code",
   "execution_count": 18,
   "metadata": {},
   "outputs": [],
   "source": [
    "import statsmodels.api as sm\n",
    "import statsmodels.formula.api as smf"
   ]
  },
  {
   "cell_type": "code",
   "execution_count": 39,
   "metadata": {},
   "outputs": [
    {
     "name": "stdout",
     "output_type": "stream",
     "text": [
      "Add  building density               with p-value 2.00942e-10\n",
      "Add  traffic (million per mile)     with p-value 0.00878228\n",
      "Add  London fire station number     with p-value 0.000918952\n",
      "The predictors that are selected by stepwise regression are:\n",
      "['building density', 'traffic (million per mile)', 'London fire station number']\n"
     ]
    }
   ],
   "source": [
    "list_predictor_select_stepwise = stepwise_selection(X=predictors_data, y=response_data)\n",
    "print(\"The predictors that are selected by stepwise regression are:\")\n",
    "print(list_predictor_select_stepwise)"
   ]
  },
  {
   "cell_type": "code",
   "execution_count": 19,
   "metadata": {},
   "outputs": [],
   "source": [
    "from statsmodels.formula.api import ols "
   ]
  },
  {
   "cell_type": "code",
   "execution_count": 10,
   "metadata": {},
   "outputs": [],
   "source": [
    "y1=df[['AttendanceTime']]\n",
    "#x1=df[['population density (Per Hectares)']]\n",
    "Building_density=df[['building density (Per Hectares)']]\n",
    "Traffic=df[['traffic (million per mile)']]\n",
    "Fire_station=df[['London fire station number']]\n",
    "Road_density=df[['road density']]"
   ]
  },
  {
   "cell_type": "code",
   "execution_count": 11,
   "metadata": {},
   "outputs": [],
   "source": [
    "import statsmodels.formula.api as sm  \n"
   ]
  },
  {
   "cell_type": "code",
   "execution_count": 12,
   "metadata": {},
   "outputs": [
    {
     "name": "stdout",
     "output_type": "stream",
     "text": [
      "                            OLS Regression Results                            \n",
      "==============================================================================\n",
      "Dep. Variable:                     y1   R-squared:                       0.882\n",
      "Model:                            OLS   Adj. R-squared:                  0.865\n",
      "Method:                 Least Squares   F-statistic:                     52.10\n",
      "Date:                Sat, 21 Aug 2021   Prob (F-statistic):           1.43e-12\n",
      "Time:                        05:07:35   Log-Likelihood:                -120.27\n",
      "No. Observations:                  33   AIC:                             250.5\n",
      "Df Residuals:                      28   BIC:                             258.0\n",
      "Df Model:                           4                                         \n",
      "Covariance Type:            nonrobust                                         \n",
      "====================================================================================\n",
      "                       coef    std err          t      P>|t|      [0.025      0.975]\n",
      "------------------------------------------------------------------------------------\n",
      "Intercept          314.8252      9.094     34.620      0.000     296.197     333.453\n",
      "Building_density    -0.6585      0.149     -4.421      0.000      -0.964      -0.353\n",
      "Traffic              0.0346      0.014      2.517      0.018       0.006       0.063\n",
      "Fire_station       -10.6355      2.306     -4.612      0.000     -15.359      -5.911\n",
      "Road_density         0.0538      0.022      2.431      0.022       0.008       0.099\n",
      "==============================================================================\n",
      "Omnibus:                        0.556   Durbin-Watson:                   1.791\n",
      "Prob(Omnibus):                  0.757   Jarque-Bera (JB):                0.634\n",
      "Skew:                          -0.062   Prob(JB):                        0.728\n",
      "Kurtosis:                       2.332   Cond. No.                     4.07e+03\n",
      "==============================================================================\n",
      "\n",
      "Notes:\n",
      "[1] Standard Errors assume that the covariance matrix of the errors is correctly specified.\n",
      "[2] The condition number is large, 4.07e+03. This might indicate that there are\n",
      "strong multicollinearity or other numerical problems.\n"
     ]
    }
   ],
   "source": [
    "result=sm.ols(formula=\"y1~+Building_density+Traffic+Fire_station+Road_density\",data = df).fit()\n",
    "print(result.summary()) "
   ]
  },
  {
   "cell_type": "code",
   "execution_count": 22,
   "metadata": {},
   "outputs": [],
   "source": [
    "import pandas as pd\n",
    "import geopandas as gpd\n",
    "import numpy as np\n",
    "import seaborn as sns\n",
    "import matplotlib.pyplot as plt\n",
    "import os"
   ]
  },
  {
   "cell_type": "code",
   "execution_count": 23,
   "metadata": {},
   "outputs": [],
   "source": [
    "population = pd.read_csv(\"population data.csv\")"
   ]
  },
  {
   "cell_type": "code",
   "execution_count": 24,
   "metadata": {},
   "outputs": [
    {
     "data": {
      "text/html": [
       "<div>\n",
       "<style scoped>\n",
       "    .dataframe tbody tr th:only-of-type {\n",
       "        vertical-align: middle;\n",
       "    }\n",
       "\n",
       "    .dataframe tbody tr th {\n",
       "        vertical-align: top;\n",
       "    }\n",
       "\n",
       "    .dataframe thead th {\n",
       "        text-align: right;\n",
       "    }\n",
       "</style>\n",
       "<table border=\"1\" class=\"dataframe\">\n",
       "  <thead>\n",
       "    <tr style=\"text-align: right;\">\n",
       "      <th></th>\n",
       "      <th>gss_code</th>\n",
       "      <th>BoroughName</th>\n",
       "      <th>population</th>\n",
       "    </tr>\n",
       "  </thead>\n",
       "  <tbody>\n",
       "    <tr>\n",
       "      <th>0</th>\n",
       "      <td>E09000002</td>\n",
       "      <td>Barking and Dagenham</td>\n",
       "      <td>214107</td>\n",
       "    </tr>\n",
       "    <tr>\n",
       "      <th>1</th>\n",
       "      <td>E09000003</td>\n",
       "      <td>Barnet</td>\n",
       "      <td>399007</td>\n",
       "    </tr>\n",
       "    <tr>\n",
       "      <th>2</th>\n",
       "      <td>E09000004</td>\n",
       "      <td>Bexley</td>\n",
       "      <td>249301</td>\n",
       "    </tr>\n",
       "    <tr>\n",
       "      <th>3</th>\n",
       "      <td>E09000005</td>\n",
       "      <td>Brent</td>\n",
       "      <td>327753</td>\n",
       "    </tr>\n",
       "    <tr>\n",
       "      <th>4</th>\n",
       "      <td>E09000006</td>\n",
       "      <td>Bromley</td>\n",
       "      <td>332752</td>\n",
       "    </tr>\n",
       "    <tr>\n",
       "      <th>5</th>\n",
       "      <td>E09000007</td>\n",
       "      <td>Camden</td>\n",
       "      <td>279516</td>\n",
       "    </tr>\n",
       "    <tr>\n",
       "      <th>6</th>\n",
       "      <td>E09000001</td>\n",
       "      <td>City of London</td>\n",
       "      <td>10938</td>\n",
       "    </tr>\n",
       "    <tr>\n",
       "      <th>7</th>\n",
       "      <td>E09000008</td>\n",
       "      <td>Croydon</td>\n",
       "      <td>388563</td>\n",
       "    </tr>\n",
       "    <tr>\n",
       "      <th>8</th>\n",
       "      <td>E09000009</td>\n",
       "      <td>Ealing</td>\n",
       "      <td>340341</td>\n",
       "    </tr>\n",
       "    <tr>\n",
       "      <th>9</th>\n",
       "      <td>E09000010</td>\n",
       "      <td>Enfield</td>\n",
       "      <td>333587</td>\n",
       "    </tr>\n",
       "    <tr>\n",
       "      <th>10</th>\n",
       "      <td>E09000011</td>\n",
       "      <td>Greenwich</td>\n",
       "      <td>289034</td>\n",
       "    </tr>\n",
       "    <tr>\n",
       "      <th>11</th>\n",
       "      <td>E09000012</td>\n",
       "      <td>Hackney</td>\n",
       "      <td>280941</td>\n",
       "    </tr>\n",
       "    <tr>\n",
       "      <th>12</th>\n",
       "      <td>E09000013</td>\n",
       "      <td>Hammersmith and Fulham</td>\n",
       "      <td>183544</td>\n",
       "    </tr>\n",
       "    <tr>\n",
       "      <th>13</th>\n",
       "      <td>E09000014</td>\n",
       "      <td>Haringey</td>\n",
       "      <td>266357</td>\n",
       "    </tr>\n",
       "    <tr>\n",
       "      <th>14</th>\n",
       "      <td>E09000015</td>\n",
       "      <td>Harrow</td>\n",
       "      <td>252338</td>\n",
       "    </tr>\n",
       "    <tr>\n",
       "      <th>15</th>\n",
       "      <td>E09000016</td>\n",
       "      <td>Havering</td>\n",
       "      <td>260651</td>\n",
       "    </tr>\n",
       "    <tr>\n",
       "      <th>16</th>\n",
       "      <td>E09000017</td>\n",
       "      <td>Hillingdon</td>\n",
       "      <td>309014</td>\n",
       "    </tr>\n",
       "    <tr>\n",
       "      <th>17</th>\n",
       "      <td>E09000018</td>\n",
       "      <td>Hounslow</td>\n",
       "      <td>271767</td>\n",
       "    </tr>\n",
       "    <tr>\n",
       "      <th>18</th>\n",
       "      <td>E09000019</td>\n",
       "      <td>Islington</td>\n",
       "      <td>248115</td>\n",
       "    </tr>\n",
       "    <tr>\n",
       "      <th>19</th>\n",
       "      <td>E09000020</td>\n",
       "      <td>Kensington and Chelsea</td>\n",
       "      <td>156864</td>\n",
       "    </tr>\n",
       "    <tr>\n",
       "      <th>20</th>\n",
       "      <td>E09000021</td>\n",
       "      <td>Kingston upon Thames</td>\n",
       "      <td>179142</td>\n",
       "    </tr>\n",
       "    <tr>\n",
       "      <th>21</th>\n",
       "      <td>E09000022</td>\n",
       "      <td>Lambeth</td>\n",
       "      <td>321813</td>\n",
       "    </tr>\n",
       "    <tr>\n",
       "      <th>22</th>\n",
       "      <td>E09000023</td>\n",
       "      <td>Lewisham</td>\n",
       "      <td>305309</td>\n",
       "    </tr>\n",
       "    <tr>\n",
       "      <th>23</th>\n",
       "      <td>E09000024</td>\n",
       "      <td>Merton</td>\n",
       "      <td>206453</td>\n",
       "    </tr>\n",
       "    <tr>\n",
       "      <th>24</th>\n",
       "      <td>E09000025</td>\n",
       "      <td>Newham</td>\n",
       "      <td>355266</td>\n",
       "    </tr>\n",
       "    <tr>\n",
       "      <th>25</th>\n",
       "      <td>E09000026</td>\n",
       "      <td>Redbridge</td>\n",
       "      <td>305658</td>\n",
       "    </tr>\n",
       "    <tr>\n",
       "      <th>26</th>\n",
       "      <td>E09000027</td>\n",
       "      <td>Richmond upon Thames</td>\n",
       "      <td>198141</td>\n",
       "    </tr>\n",
       "    <tr>\n",
       "      <th>27</th>\n",
       "      <td>E09000028</td>\n",
       "      <td>Southwark</td>\n",
       "      <td>320017</td>\n",
       "    </tr>\n",
       "    <tr>\n",
       "      <th>28</th>\n",
       "      <td>E09000029</td>\n",
       "      <td>Sutton</td>\n",
       "      <td>207707</td>\n",
       "    </tr>\n",
       "    <tr>\n",
       "      <th>29</th>\n",
       "      <td>E09000030</td>\n",
       "      <td>Tower Hamlets</td>\n",
       "      <td>331969</td>\n",
       "    </tr>\n",
       "    <tr>\n",
       "      <th>30</th>\n",
       "      <td>E09000031</td>\n",
       "      <td>Waltham Forest</td>\n",
       "      <td>276940</td>\n",
       "    </tr>\n",
       "    <tr>\n",
       "      <th>31</th>\n",
       "      <td>E09000032</td>\n",
       "      <td>Wandsworth</td>\n",
       "      <td>329735</td>\n",
       "    </tr>\n",
       "    <tr>\n",
       "      <th>32</th>\n",
       "      <td>E09000033</td>\n",
       "      <td>Westminster</td>\n",
       "      <td>269848</td>\n",
       "    </tr>\n",
       "  </tbody>\n",
       "</table>\n",
       "</div>"
      ],
      "text/plain": [
       "     gss_code             BoroughName  population\n",
       "0   E09000002    Barking and Dagenham      214107\n",
       "1   E09000003                  Barnet      399007\n",
       "2   E09000004                  Bexley      249301\n",
       "3   E09000005                   Brent      327753\n",
       "4   E09000006                 Bromley      332752\n",
       "5   E09000007                  Camden      279516\n",
       "6   E09000001          City of London       10938\n",
       "7   E09000008                 Croydon      388563\n",
       "8   E09000009                  Ealing      340341\n",
       "9   E09000010                 Enfield      333587\n",
       "10  E09000011               Greenwich      289034\n",
       "11  E09000012                 Hackney      280941\n",
       "12  E09000013  Hammersmith and Fulham      183544\n",
       "13  E09000014                Haringey      266357\n",
       "14  E09000015                  Harrow      252338\n",
       "15  E09000016                Havering      260651\n",
       "16  E09000017              Hillingdon      309014\n",
       "17  E09000018                Hounslow      271767\n",
       "18  E09000019               Islington      248115\n",
       "19  E09000020  Kensington and Chelsea      156864\n",
       "20  E09000021    Kingston upon Thames      179142\n",
       "21  E09000022                 Lambeth      321813\n",
       "22  E09000023                Lewisham      305309\n",
       "23  E09000024                  Merton      206453\n",
       "24  E09000025                  Newham      355266\n",
       "25  E09000026               Redbridge      305658\n",
       "26  E09000027    Richmond upon Thames      198141\n",
       "27  E09000028               Southwark      320017\n",
       "28  E09000029                  Sutton      207707\n",
       "29  E09000030           Tower Hamlets      331969\n",
       "30  E09000031          Waltham Forest      276940\n",
       "31  E09000032              Wandsworth      329735\n",
       "32  E09000033             Westminster      269848"
      ]
     },
     "execution_count": 24,
     "metadata": {},
     "output_type": "execute_result"
    }
   ],
   "source": [
    "population"
   ]
  },
  {
   "cell_type": "code",
   "execution_count": 25,
   "metadata": {},
   "outputs": [],
   "source": [
    "boros = gpd.read_file('London_boroughs.gpkg')"
   ]
  },
  {
   "cell_type": "code",
   "execution_count": 26,
   "metadata": {},
   "outputs": [
    {
     "name": "stdout",
     "output_type": "stream",
     "text": [
      "(33, 9)\n",
      "<class 'geopandas.geodataframe.GeoDataFrame'>\n"
     ]
    }
   ],
   "source": [
    "populationmerge = pd.merge(boros, population, left_on='GSS_CODE', right_on='gss_code', how='inner')\n",
    "print(populationmerge.shape)\n",
    "print(type(populationmerge))"
   ]
  },
  {
   "cell_type": "code",
   "execution_count": 37,
   "metadata": {},
   "outputs": [
    {
     "data": {
      "text/plain": [
       "<AxesSubplot:title={'center':'London Borough Population 2020'}>"
      ]
     },
     "execution_count": 37,
     "metadata": {},
     "output_type": "execute_result"
    },
    {
     "data": {
      "image/png": "[encoded data removed]",
      "text/plain": [
       "<Figure size 1080x720 with 1 Axes>"
      ]
     },
     "metadata": {
      "needs_background": "light"
     },
     "output_type": "display_data"
    }
   ],
   "source": [
    "ax = populationmerge.plot(figsize=(15,10), edgecolor='red', facecolor='none', linewidth=1, alpha=0.75)\n",
    "ax.set_title('London Borough Population 2020', fontdict={'fontsize':'20', 'fontweight':'3'})\n",
    "ax.text(x=558300, y=199500, s='N', fontsize=20)\n",
    "ax.arrow(558900, 198000, 0, 1000, length_includes_head=True,\n",
    "          head_width=2000, head_length=4000, overhang=.1, facecolor='k')\n",
    "ax.axis('off') \n",
    "populationmerge.plot(markersize=1, column='population', scheme='NaturalBreaks',k=6, cmap='OrRd', ax=ax, legend=True)\n",
    "\n"
   ]
  },
  {
   "cell_type": "code",
   "execution_count": null,
   "metadata": {},
   "outputs": [],
   "source": []
  }
 ],
 "metadata": {
  "kernelspec": {
   "display_name": "Python 3",
   "language": "python",
   "name": "python3"
  },
  "language_info": {
   "codemirror_mode": {
    "name": "ipython",
    "version": 3
   },
   "file_extension": ".py",
   "mimetype": "text/x-python",
   "name": "python",
   "nbconvert_exporter": "python",
   "pygments_lexer": "ipython3",
   "version": "3.7.8"
  }
 },
 "nbformat": 4,
 "nbformat_minor": 4
}
